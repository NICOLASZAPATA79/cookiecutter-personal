{
 "cells": [
  {
   "attachments": {},
   "cell_type": "markdown",
   "metadata": {},
   "source": [
    "\n",
    "# Paths management Platzi"
   ]
  },
  {
   "attachments": {},
   "cell_type": "markdown",
   "metadata": {},
   "source": [
    "## Different Python Paths management systems"
   ]
  },
  {
   "attachments": {},
   "cell_type": "markdown",
   "metadata": {},
   "source": [
    "## Goal: ./data/raw/"
   ]
  },
  {
   "attachments": {},
   "cell_type": "markdown",
   "metadata": {},
   "source": [
    "### OS"
   ]
  },
  {
   "cell_type": "code",
   "execution_count": 2,
   "metadata": {},
   "outputs": [],
   "source": [
    "import os"
   ]
  },
  {
   "cell_type": "code",
   "execution_count": 14,
   "metadata": {},
   "outputs": [],
   "source": [
    "CURRENT_DIR= os.getcwd() # Ruta actual de trabajo\n",
    "DATA_DIR= os.path.join(CURRENT_DIR, os.pardir,'data','raw') #Ruta objetivo (os.pardir()ruta padre del directorio )"
   ]
  },
  {
   "cell_type": "code",
   "execution_count": 4,
   "metadata": {},
   "outputs": [
    {
     "data": {
      "text/plain": [
       "True"
      ]
     },
     "execution_count": 4,
     "metadata": {},
     "output_type": "execute_result"
    }
   ],
   "source": [
    "os.path.exists(DATA_DIR) # Comprobación booleana de si existe una dirección (path)"
   ]
  },
  {
   "cell_type": "code",
   "execution_count": 6,
   "metadata": {},
   "outputs": [
    {
     "data": {
      "text/plain": [
       "True"
      ]
     },
     "execution_count": 6,
     "metadata": {},
     "output_type": "execute_result"
    }
   ],
   "source": [
    "os.path.isdir(DATA_DIR) # Comprobación booleana de si existe un directorio "
   ]
  },
  {
   "cell_type": "code",
   "execution_count": 7,
   "metadata": {},
   "outputs": [
    {
     "data": {
      "text/plain": [
       "['/home/nico9779/cookiecutter-personal/{{cookiecutter.project_slug}}/notebooks/../data/raw/.gitkeep']"
      ]
     },
     "execution_count": 7,
     "metadata": {},
     "output_type": "execute_result"
    }
   ],
   "source": [
    "os.listdir(DATA_DIR) # Itera por los archivos dentro del directorio\n",
    "[os.path.join(DATA_DIR, item) for item in os.listdir(DATA_DIR)]"
   ]
  },
  {
   "cell_type": "code",
   "execution_count": 8,
   "metadata": {},
   "outputs": [],
   "source": [
    "os.mkdir(os.path.join(DATA_DIR,'os')) #Crea un nuevo directorio en la ruta asignada "
   ]
  },
  {
   "attachments": {},
   "cell_type": "markdown",
   "metadata": {},
   "source": [
    "### Pathlib"
   ]
  },
  {
   "cell_type": "code",
   "execution_count": 10,
   "metadata": {},
   "outputs": [],
   "source": [
    "import pathlib\n"
   ]
  },
  {
   "cell_type": "code",
   "execution_count": 17,
   "metadata": {},
   "outputs": [],
   "source": [
    "CURENT_DIR_PATHLIB = pathlib.Path().resolve() # Ruta o path local completo\n",
    "DATA_DIR_PATHLIB = CURENT_DIR_PATHLIB.parent.joinpath('data','raw') # Ruta objetivo "
   ]
  },
  {
   "cell_type": "code",
   "execution_count": 19,
   "metadata": {},
   "outputs": [
    {
     "data": {
      "text/plain": [
       "True"
      ]
     },
     "execution_count": 19,
     "metadata": {},
     "output_type": "execute_result"
    }
   ],
   "source": [
    "DATA_DIR_PATHLIB.is_dir()\n",
    "DATA_DIR_PATHLIB.exists()"
   ]
  },
  {
   "cell_type": "code",
   "execution_count": 23,
   "metadata": {},
   "outputs": [],
   "source": [
    "DATA_DIR_PATHLIB.joinpath('joinpath').mkdir() # Creación de directorios, en joinpath se asigna el nombre nuevo del archivo"
   ]
  },
  {
   "cell_type": "code",
   "execution_count": 25,
   "metadata": {},
   "outputs": [
    {
     "data": {
      "text/plain": [
       "[PosixPath('/home/nico9779/cookiecutter-personal/{{cookiecutter.project_slug}}/data/raw/.gitkeep'),\n",
       " PosixPath('/home/nico9779/cookiecutter-personal/{{cookiecutter.project_slug}}/data/raw/joinpath'),\n",
       " PosixPath('/home/nico9779/cookiecutter-personal/{{cookiecutter.project_slug}}/data/raw/os')]"
      ]
     },
     "execution_count": 25,
     "metadata": {},
     "output_type": "execute_result"
    }
   ],
   "source": [
    "list(DATA_DIR_PATHLIB.glob('*')) # Iterar los archivos como una lista, recordar que '*' hace referencia a todos los archivos "
   ]
  },
  {
   "cell_type": "code",
   "execution_count": 26,
   "metadata": {},
   "outputs": [
    {
     "data": {
      "text/plain": [
       "[PosixPath('/home/nico9779/cookiecutter-personal/{{cookiecutter.project_slug}}/data/raw/.gitkeep')]"
      ]
     },
     "execution_count": 26,
     "metadata": {},
     "output_type": "execute_result"
    }
   ],
   "source": [
    "list(DATA_DIR_PATHLIB.glob('.git*')) # Se puede especificar el tipo de archivo a iterar"
   ]
  },
  {
   "attachments": {},
   "cell_type": "markdown",
   "metadata": {},
   "source": [
    "### PyFilesystem2"
   ]
  },
  {
   "cell_type": "code",
   "execution_count": 30,
   "metadata": {},
   "outputs": [],
   "source": [
    "import fs"
   ]
  },
  {
   "attachments": {},
   "cell_type": "markdown",
   "metadata": {},
   "source": [
    "## "
   ]
  },
  {
   "cell_type": "code",
   "execution_count": 33,
   "metadata": {},
   "outputs": [],
   "source": [
    "fs.open_fs('.') # Abre una conexión con el path actual\n",
    "CURRENT_DIR_FS = fs.open_fs('.') # Creación de variable con la ruta-path actual "
   ]
  },
  {
   "cell_type": "code",
   "execution_count": 36,
   "metadata": {},
   "outputs": [
    {
     "data": {
      "text/plain": [
       "True"
      ]
     },
     "execution_count": 36,
     "metadata": {},
     "output_type": "execute_result"
    }
   ],
   "source": [
    "CURRENT_DIR_FS.exists('.') # Comprobación booleana de si existe la ruta actual"
   ]
  },
  {
   "cell_type": "code",
   "execution_count": 38,
   "metadata": {},
   "outputs": [
    {
     "data": {
      "text/plain": [
       "OSFS('/home/nico9779/cookiecutter-personal/{{cookiecutter.project_slug}}/data/raw')"
      ]
     },
     "execution_count": 38,
     "metadata": {},
     "output_type": "execute_result"
    }
   ],
   "source": [
    "DATA_DIR_FS = fs.open_fs('../data/raw/')\n",
    "DATA_DIR_FS"
   ]
  },
  {
   "cell_type": "code",
   "execution_count": 39,
   "metadata": {},
   "outputs": [
    {
     "data": {
      "text/plain": [
       "['.gitkeep', 'joinpath', 'os']"
      ]
     },
     "execution_count": 39,
     "metadata": {},
     "output_type": "execute_result"
    }
   ],
   "source": [
    "DATA_DIR_FS.listdir('.') # Muestra en forma de lista, el contenido de lo que hay en la ruta-path"
   ]
  },
  {
   "cell_type": "code",
   "execution_count": 42,
   "metadata": {},
   "outputs": [
    {
     "name": "stdout",
     "output_type": "stream",
     "text": [
      "/.gitkeep\n",
      "['The best datascientist of the world\\n']\n"
     ]
    }
   ],
   "source": [
    "for path in DATA_DIR_FS.walk.files():  # Iteración en la ruta, se está imprimiendo los archivos que hay allí, también podrían ser directorios\n",
    "    print(path)\n",
    "    \n",
    "    with DATA_DIR_FS.open(path) as data_file: # Imprimir el contenido dentro de un archivo \n",
    "        print(data_file.readlines())"
   ]
  },
  {
   "attachments": {},
   "cell_type": "markdown",
   "metadata": {},
   "source": [
    "## Adding root to the project"
   ]
  },
  {
   "attachments": {},
   "cell_type": "markdown",
   "metadata": {},
   "source": [
    "### pyprojroot\n",
    "\n",
    "- En pyprojroot se construye desde la ráiz y no desde el archivo que le ejecuta, por ello resulta practico\n",
    "- Se pueden mover los archivos en cualquier dirección pero los path no se van a romper"
   ]
  },
  {
   "cell_type": "code",
   "execution_count": 44,
   "metadata": {},
   "outputs": [],
   "source": [
    "import pyprojroot\n"
   ]
  },
  {
   "cell_type": "code",
   "execution_count": 45,
   "metadata": {},
   "outputs": [
    {
     "data": {
      "text/plain": [
       "PosixPath('/home/nico9779/cookiecutter-personal')"
      ]
     },
     "execution_count": 45,
     "metadata": {},
     "output_type": "execute_result"
    }
   ],
   "source": [
    "pyprojroot.here() # Posixpath, con pathlib\n",
    "pyprojroot.here().joinptah('data','raw') # Directorio objetivo "
   ]
  },
  {
   "attachments": {},
   "cell_type": "markdown",
   "metadata": {},
   "source": [
    "### pyhere"
   ]
  },
  {
   "cell_type": "code",
   "execution_count": 46,
   "metadata": {},
   "outputs": [],
   "source": [
    "import pyhere"
   ]
  },
  {
   "cell_type": "code",
   "execution_count": 47,
   "metadata": {},
   "outputs": [
    {
     "data": {
      "text/plain": [
       "PosixPath('/home/nico9779/cookiecutter-personal/{{cookiecutter.project_slug}}/notebooks/../..')"
      ]
     },
     "execution_count": 47,
     "metadata": {},
     "output_type": "execute_result"
    }
   ],
   "source": [
    "pyhere.here() # Posixpath igual que en pathlib"
   ]
  },
  {
   "cell_type": "code",
   "execution_count": 49,
   "metadata": {},
   "outputs": [
    {
     "data": {
      "text/plain": [
       "PosixPath('/home/nico9779/cookiecutter-personal/data/raw')"
      ]
     },
     "execution_count": 49,
     "metadata": {},
     "output_type": "execute_result"
    }
   ],
   "source": [
    "pyprojroot.here('data').joinpath('raw') # Estas dos formas entregan el mismo resultado, un posixpath \n",
    "pyhere.here().resolve() /'data'/'raw'"
   ]
  },
  {
   "attachments": {},
   "cell_type": "markdown",
   "metadata": {},
   "source": [
    "### Creación de funciones/shortcuts a partir de las librerías pyprojroot/pyhere"
   ]
  },
  {
   "cell_type": "code",
   "execution_count": 61,
   "metadata": {},
   "outputs": [],
   "source": [
    "def make_dir_function(dir_name):\n",
    "    def dir_function(*args):\n",
    "        return pyprojroot.here().joinpath(dir_name,*args)\n",
    "    return dir_function\n"
   ]
  },
  {
   "cell_type": "code",
   "execution_count": 62,
   "metadata": {},
   "outputs": [
    {
     "data": {
      "text/plain": [
       "PosixPath('/home/nico9779/cookiecutter-personal/data/raw/pathlib')"
      ]
     },
     "execution_count": 62,
     "metadata": {},
     "output_type": "execute_result"
    }
   ],
   "source": [
    "data_dir_function= make_dir_function('data')\n",
    "data_dir_function('raw','pathlib')\n"
   ]
  }
 ],
 "metadata": {
  "kernelspec": {
   "display_name": "manejo_de_rutas",
   "language": "python",
   "name": "python3"
  },
  "language_info": {
   "codemirror_mode": {
    "name": "ipython",
    "version": 3
   },
   "file_extension": ".py",
   "mimetype": "text/x-python",
   "name": "python",
   "nbconvert_exporter": "python",
   "pygments_lexer": "ipython3",
   "version": "3.11.3"
  },
  "orig_nbformat": 4
 },
 "nbformat": 4,
 "nbformat_minor": 2
}
